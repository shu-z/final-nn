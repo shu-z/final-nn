{
 "cells": [
  {
   "cell_type": "markdown",
   "metadata": {},
   "source": [
    "### Training a classifier to identify transcription factor (TF) motifs"
   ]
  },
  {
   "cell_type": "code",
   "execution_count": 112,
   "metadata": {},
   "outputs": [
    {
     "name": "stdout",
     "output_type": "stream",
     "text": [
      "The autoreload extension is already loaded. To reload it, use:\n",
      "  %reload_ext autoreload\n"
     ]
    }
   ],
   "source": [
    "%load_ext autoreload\n",
    "%autoreload 2"
   ]
  },
  {
   "cell_type": "code",
   "execution_count": 113,
   "metadata": {},
   "outputs": [],
   "source": [
    "from nn.nn import NeuralNetwork\n",
    "from nn import io, preprocess \n",
    "import numpy as np\n",
    "import pandas as pd \n",
    "import random\n",
    "from sklearn.datasets import load_digits\n",
    "from sklearn.model_selection import train_test_split\n",
    "import matplotlib.pyplot as plt"
   ]
  },
  {
   "cell_type": "markdown",
   "metadata": {},
   "source": [
    "First, we'll read in the positive and negative sequences. We'll trim the sequences so that they're all the same length. Since the positive class is much smaller than the negative class, we'll randomly sample sequences with replacement from the positive class so that the same number of sequences are in the positive and negative class. I chose this unbiased method for simplicity, although it's possible that we may have wanted to overrepresent certain sequences. By oversampling the positive sequences, we can preserve all information available from the negative sequences. "
   ]
  },
  {
   "cell_type": "code",
   "execution_count": 114,
   "metadata": {},
   "outputs": [],
   "source": [
    "#read in sequence files and combine \n",
    "pos_seqs=io.read_text_file('./data/rap1-lieb-positives.txt')\n",
    "neg_seqs=io.read_fasta_file('./data/yeast-upstream-1k-negative.fa')\n",
    "all_seqs=pos_seqs+neg_seqs\n",
    "\n",
    "#get min length\n",
    "min_seq_len=min(len(min(pos_seqs)), len(min(neg_seqs)))\n",
    "\n",
    "#trim sequences so that they're all the same length \n",
    "trimmed_all_seqs=[]\n",
    "for seq in all_seqs:\n",
    "    if len(seq)>min_seq_len:\n",
    "        start=random.randint(0, len(seq)-min_seq_len)\n",
    "        trimmed_all_seqs.append(seq[start:start+min_seq_len])\n",
    "    else:\n",
    "        trimmed_all_seqs.append(seq)\n",
    "    \n",
    "#set labels\n",
    "labels=(['positive'] * len(pos_seqs)) + (['negative'] * len(neg_seqs))        "
   ]
  },
  {
   "cell_type": "code",
   "execution_count": 76,
   "metadata": {},
   "outputs": [
    {
     "name": "stdout",
     "output_type": "stream",
     "text": [
      "6326\n",
      "6326\n"
     ]
    }
   ],
   "source": [
    "#resample seqs so same number per label\n",
    "tf_sampled_seqs, tf_sampled_labels=preprocess.sample_seqs(trimmed_all_seqs, labels)\n",
    "\n",
    "#check that len of seq and labels match\n",
    "print(len(tf_sampled_seqs))\n",
    "print(len(tf_sampled_labels))"
   ]
  },
  {
   "cell_type": "markdown",
   "metadata": {},
   "source": [
    "We'll then one hot encode the sequences, turn the labels into binary values, and split the data into train and test sets. "
   ]
  },
  {
   "cell_type": "code",
   "execution_count": 77,
   "metadata": {},
   "outputs": [],
   "source": [
    "#then, one hot encode the sequesnces\n",
    "one_hot_encode_tf=preprocess.one_hot_encode_seqs(tf_sampled_seqs)\n",
    "\n",
    "#turn labels into binary values\n",
    "tf_labels_binary = [0 if val=='negative' else 1 for val in tf_sampled_labels]\n",
    "\n",
    "#split train and test \n",
    "X_train, X_val, y_train, y_val=train_test_split(one_hot_encode_tf, np.expand_dims(tf_labels_binary, 1), \n",
    "                                                  train_size=0.8, random_state=3)\n",
    "X_train.shape"
   ]
  },
  {
   "cell_type": "markdown",
   "metadata": {},
   "source": [
    "Next, we'll select hyperparameters. I chose BCE for the loss function since our goal is binary classification. Similarly, while I selected relu previously to avoid the problem of diminishing gradients, I thought sigmoid would be more appropriate here (like in logistic regression). I tested this as one of the hyperparameters just in case. I also tested the learning rate and batch size, and selected the hyperparamter combination that provided the lowest validation loss.   \n",
    "\n",
    "The input dimensions were selected somewhat arbitrarily, by halving the dimensions of the one hot encoded sequences twice. The final output dimension is 1 since we are making a single prediction of 0 or 1. If I had more time, I would  tune the input dimensions. I would also tune the number of epochs so we aren't training for too long. "
   ]
  },
  {
   "cell_type": "code",
   "execution_count": 115,
   "metadata": {},
   "outputs": [
    {
     "name": "stdout",
     "output_type": "stream",
     "text": [
      "tuning for the following hyperparameters...\n",
      "lr, batch_size, activation: (0.01, 50, 'relu')\n",
      "lr, batch_size, activation: (0.01, 50, 'sigmoid')\n",
      "lr, batch_size, activation: (0.01, 100, 'relu')\n",
      "lr, batch_size, activation: (0.01, 100, 'sigmoid')\n",
      "lr, batch_size, activation: (0.01, 200, 'relu')\n",
      "lr, batch_size, activation: (0.01, 200, 'sigmoid')\n",
      "lr, batch_size, activation: (0.001, 50, 'relu')\n",
      "lr, batch_size, activation: (0.001, 50, 'sigmoid')\n",
      "lr, batch_size, activation: (0.001, 100, 'relu')\n",
      "lr, batch_size, activation: (0.001, 100, 'sigmoid')\n",
      "lr, batch_size, activation: (0.001, 200, 'relu')\n",
      "lr, batch_size, activation: (0.001, 200, 'sigmoid')\n"
     ]
    }
   ],
   "source": [
    "#tune some hyperparameters \n",
    "\n",
    "\n",
    "#test lr, batch_size\n",
    "lr_test=[0.01, 0.001]\n",
    "batch_size_test=[50, 100, 200]\n",
    "activation=['relu', 'sigmoid']\n",
    "hyperparameters=[(x, y, z) for x in lr_test for y in batch_size_test for z in activation]\n",
    "\n",
    "val_loss_list=[]\n",
    "\n",
    "print('tuning the following hyperparameters...')\n",
    "for hp in hyperparameters:\n",
    "    print('lr, batch_size, activation:', hp)\n",
    "        \n",
    "    run_NN = NeuralNetwork(nn_arch = [{'input_dim': 68, 'output_dim': 34, 'activation': hp[2]},\n",
    "                                      {'input_dim': 34, 'output_dim': 17, 'activation': hp[2]},\n",
    "                                      {'input_dim': 17, 'output_dim': 1, 'activation': hp[2]}],\n",
    "                                    lr = hp[0], seed = 3, batch_size = hp[1], epochs = 500, \n",
    "                                    loss_function='mse', verbose=False)\n",
    "    \n",
    "    per_epoch_loss_train, per_epoch_loss_val=run_NN.fit(X_train, y_train, X_val, y_val)\n",
    "    \n",
    "    \n",
    "    #store average of the last 10 epochs of validation loss \n",
    "    val_loss_list.append(np.mean(per_epoch_loss_val[-10:]))"
   ]
  },
  {
   "cell_type": "code",
   "execution_count": 119,
   "metadata": {},
   "outputs": [
    {
     "name": "stdout",
     "output_type": "stream",
     "text": [
      "best hyperparameters lr, batch_size: (0.01, 50, 'sigmoid')\n"
     ]
    }
   ],
   "source": [
    "#select hyperparameters with minimum validation loss \n",
    "hp_idx=np.argmin(val_loss_list)\n",
    "print('best hyperparameters lr, batch_size:', hyperparameters[hp_idx])"
   ]
  },
  {
   "cell_type": "markdown",
   "metadata": {},
   "source": [
    "We've selected the final hyperparameters. If I had more time, I'd do some cross validation. For today, we will proceed with this final model. "
   ]
  },
  {
   "cell_type": "code",
   "execution_count": 121,
   "metadata": {},
   "outputs": [],
   "source": [
    "tf_classifier_NN = NeuralNetwork(nn_arch = [{'input_dim': 68, 'output_dim': 34, 'activation': 'sigmoid'},\n",
    "                                      {'input_dim': 34, 'output_dim': 17, 'activation': 'sigmoid'},\n",
    "                                      {'input_dim': 17, 'output_dim': 1, 'activation': 'sigmoid'}],\n",
    "                            lr = 0.01, seed = 3, batch_size = 50, epochs = 500, loss_function='bce', verbose=False)"
   ]
  },
  {
   "cell_type": "code",
   "execution_count": 122,
   "metadata": {},
   "outputs": [],
   "source": [
    "per_epoch_loss_train, per_epoch_loss_val=tf_classifier_NN.fit(X_train, y_train, X_val, y_val)"
   ]
  },
  {
   "cell_type": "markdown",
   "metadata": {},
   "source": [
    "Finally, we'll plot the training and validation loss. "
   ]
  },
  {
   "cell_type": "code",
   "execution_count": 104,
   "metadata": {},
   "outputs": [
    {
     "data": {
      "image/png": "[encoded data removed]",
      "text/plain": [
       "<Figure size 576x576 with 2 Axes>"
      ]
     },
     "metadata": {
      "needs_background": "light"
     },
     "output_type": "display_data"
    }
   ],
   "source": [
    "#code from hw7\n",
    "#plot training and reconstruction loss for final model\n",
    "\n",
    "fig, axs = plt.subplots(2, figsize=(8, 8))\n",
    "axs[0].plot(np.arange(len(per_epoch_loss_train)), per_epoch_loss_train)\n",
    "axs[0].set_title('Training Loss History')\n",
    "axs[1].plot(np.arange(len(per_epoch_loss_val)), per_epoch_loss_val)\n",
    "axs[1].set_title('Validation Loss History')\n",
    "plt.xlabel('Steps')\n",
    "fig.tight_layout()\n",
    "plt.show()"
   ]
  },
  {
   "cell_type": "markdown",
   "metadata": {},
   "source": [
    "The accuracy on the validation set is quite high, at 99.8%. "
   ]
  },
  {
   "cell_type": "code",
   "execution_count": 123,
   "metadata": {},
   "outputs": [
    {
     "name": "stdout",
     "output_type": "stream",
     "text": [
      "Validation set accuracy: 0.9984202211690363\n"
     ]
    }
   ],
   "source": [
    "tf_pred=tf_classifier_NN.predict(X_val)\n",
    "tf_pred_binary = np.where(tf_pred > 0.5, 1, 0)\n",
    "\n",
    "print('Validation set accuracy:', np.sum(tf_pred_binary == y_val)/len(y_val))"
   ]
  },
  {
   "cell_type": "code",
   "execution_count": null,
   "metadata": {},
   "outputs": [],
   "source": []
  },
  {
   "cell_type": "code",
   "execution_count": null,
   "metadata": {},
   "outputs": [],
   "source": []
  }
 ],
 "metadata": {
  "kernelspec": {
   "display_name": "Python 3",
   "language": "python",
   "name": "python3"
  },
  "language_info": {
   "codemirror_mode": {
    "name": "ipython",
    "version": 3
   },
   "file_extension": ".py",
   "mimetype": "text/x-python",
   "name": "python",
   "nbconvert_exporter": "python",
   "pygments_lexer": "ipython3",
   "version": "3.8.3"
  }
 },
 "nbformat": 4,
 "nbformat_minor": 4
}
