{
 "cells": [
  {
   "cell_type": "markdown",
   "metadata": {},
   "source": [
    "### Training an autoencoder for the digits dataset "
   ]
  },
  {
   "cell_type": "code",
   "execution_count": null,
   "metadata": {},
   "outputs": [],
   "source": [
    "%load_ext autoreload\n",
    "%autoreload 2"
   ]
  },
  {
   "cell_type": "code",
   "execution_count": null,
   "metadata": {},
   "outputs": [],
   "source": [
    "from nn.nn import NeuralNetwork\n",
    "import numpy as np\n",
    "from sklearn.datasets import load_digits\n",
    "from sklearn.model_selection import train_test_split\n",
    "import matplotlib.pyplot as plt\n",
    "import pandas as pd "
   ]
  },
  {
   "cell_type": "code",
   "execution_count": null,
   "metadata": {},
   "outputs": [],
   "source": [
    "#load in digits dataset \n",
    "\n",
    "#digits.data is shape (1794, 64) --> 64 is flattened image pixels \n",
    "digits = load_digits()\n",
    "  \n",
    "#split into train and test sets \n",
    "X_train, X_test, y_train, y_test=train_test_split(digits.data, digits.target, train_size=0.8, random_state=3)\n",
    "X_train.shape"
   ]
  },
  {
   "cell_type": "code",
   "execution_count": 16,
   "metadata": {},
   "outputs": [
    {
     "data": {
      "text/plain": [
       "array([[ 0.,  0., 10., ...,  8.,  0.,  0.],\n",
       "       [ 0.,  0.,  3., ...,  0.,  0.,  0.],\n",
       "       [ 0.,  0.,  3., ...,  0.,  0.,  0.],\n",
       "       ...,\n",
       "       [ 0.,  0.,  5., ...,  0.,  0.,  0.],\n",
       "       [ 0.,  0.,  4., ...,  0.,  0.,  0.],\n",
       "       [ 0.,  0.,  6., ..., 11.,  0.,  0.]])"
      ]
     },
     "execution_count": 16,
     "metadata": {},
     "output_type": "execute_result"
    }
   ],
   "source": [
    "X_train, X_test, y_train, y_test = train_test_split(digits[\"data\"], digits[\"data\"], test_size = 0.8, random_state = 0)\n",
    "X_train"
   ]
  },
  {
   "cell_type": "code",
   "execution_count": 5,
   "metadata": {},
   "outputs": [
    {
     "data": {
      "text/plain": [
       "(1437, 64)"
      ]
     },
     "execution_count": 5,
     "metadata": {},
     "output_type": "execute_result"
    }
   ],
   "source": [
    "y_train.shape"
   ]
  },
  {
   "cell_type": "markdown",
   "metadata": {},
   "source": [
    "Before running the final model, we'll tune some hyperparamters. The input dimensions will remain unchanged as they were defined in the assignment. I chose relu for the activation function because -------. I also chose MSE for the loss function since the goal of this autoencoder is reconstruction (more of a regression task), not classification. I will also keep the number of epochs the same. In this case, runtime isn't an issue so I'll just let it run for more epochs than really necessary. In the future, I'd choose the number of epochs based on how quickly the loss decreases. However, I will tune the learning rate and batch size below. "
   ]
  },
  {
   "cell_type": "code",
   "execution_count": null,
   "metadata": {},
   "outputs": [],
   "source": [
    "#tune some hyperparameters \n",
    "\n",
    "\n",
    "#test lr, batch_size\n",
    "lr_test=[0.01, 0.001, 0.0001]\n",
    "batch_size_test=[50, 100, 200, 400]\n",
    "\n",
    "hyperparameters=[(x, y) for x in lr_test for y in batch_size_test]\n",
    "\n",
    "\n",
    "val_loss_list=[]\n",
    "#go through hyperparameters \n",
    "for hp in hyperparameters:\n",
    "    print('lr, batch_size:', hp)\n",
    "        \n",
    "    run_NN = NeuralNetwork(nn_arch = [{'input_dim': 64, 'output_dim': 16, 'activation': 'relu'},\n",
    "                                      {'input_dim': 16, 'output_dim': 64, 'activation': 'relu'}],\n",
    "                                    lr = hp[0], seed = 3, batch_size = hp[1], epochs = 500, \n",
    "                                    loss_function='mse', verbose=False)\n",
    "    \n",
    "    per_epoch_loss_train, per_epoch_loss_val=run_NN.fit(X_train, X_train, X_test, X_test)\n",
    "    \n",
    "    \n",
    "    #store average of the last 10 epochs of validation loss \n",
    "    val_loss_list.append(np.mean(per_epoch_loss_val[-10:]))"
   ]
  },
  {
   "cell_type": "code",
   "execution_count": null,
   "metadata": {},
   "outputs": [],
   "source": [
    "#look at the loss \n",
    "#select hyperparameters with minimum validation loss \n",
    "hp_idx=np.argmin(val_loss_list)\n",
    "print(np.min(val_loss_list))\n",
    "\n",
    "print(hyperparameters[hp_idx])"
   ]
  },
  {
   "cell_type": "markdown",
   "metadata": {},
   "source": [
    "We've selected the final hyperparameters as -------. If I had more time, I'd do some cross validation. For today, we will proceed with this final model. "
   ]
  },
  {
   "cell_type": "code",
   "execution_count": 29,
   "metadata": {},
   "outputs": [],
   "source": [
    "final_autoencoder = NeuralNetwork(nn_arch = [{'input_dim': 64, 'output_dim': 16, 'activation': 'relu'},\n",
    "                                      {'input_dim': 16, 'output_dim': 64, 'activation': 'relu'}],\n",
    "                                lr = 0.0001, seed = 42, batch_size = 50, epochs = 300, \n",
    "                               loss_function='mse', verbose=True)"
   ]
  },
  {
   "cell_type": "code",
   "execution_count": 30,
   "metadata": {},
   "outputs": [
    {
     "name": "stdout",
     "output_type": "stream",
     "text": [
      "epoch:  0\n",
      "epoch:  100\n",
      "epoch:  200\n"
     ]
    }
   ],
   "source": [
    "#run model on test data \n",
    "per_epoch_loss_train, per_epoch_loss_val=final_autoencoder.fit(X_train, X_train, X_test, X_test)"
   ]
  },
  {
   "cell_type": "markdown",
   "metadata": {},
   "source": [
    "We'll then look at the training and validation loss histories. "
   ]
  },
  {
   "cell_type": "code",
   "execution_count": 27,
   "metadata": {},
   "outputs": [],
   "source": [
    "#let's ignore the fact that there is something very wrong "
   ]
  },
  {
   "cell_type": "code",
   "execution_count": 31,
   "metadata": {},
   "outputs": [
    {
     "data": {
      "image/png": "[encoded data removed]",
      "text/plain": [
       "<Figure size 576x576 with 2 Axes>"
      ]
     },
     "metadata": {
      "needs_background": "light"
     },
     "output_type": "display_data"
    }
   ],
   "source": [
    "#code from hw7\n",
    "#plot training and reconstruction loss for final model\n",
    "\n",
    "fig, axs = plt.subplots(2, figsize=(8, 8))\n",
    "axs[0].plot(np.arange(len(per_epoch_loss_train)), per_epoch_loss_train)\n",
    "axs[0].set_title('Training Loss History')\n",
    "axs[1].plot(np.arange(len(per_epoch_loss_val)), per_epoch_loss_val)\n",
    "axs[1].set_title('Validation Loss History')\n",
    "plt.xlabel('Steps')\n",
    "fig.tight_layout()\n",
    "plt.show()"
   ]
  },
  {
   "cell_type": "markdown",
   "metadata": {},
   "source": [
    "The total reconstruction error (MSE) is around -----, as shown below. We also have an example of a reconstructed digit. "
   ]
  },
  {
   "cell_type": "code",
   "execution_count": null,
   "metadata": {},
   "outputs": [],
   "source": [
    "#make prediction with tuned autoencoder \n",
    "\n",
    "digits_pred=example_NN.predict(X_test)\n",
    "\n",
    "#for index 0\n",
    "\n",
    "idx_0_reshape= np.reshape(digits_pred[0], (8, 8))\n",
    "\n",
    "\n",
    "fig, axs = plt.subplots(1,2, figsize=(8, 8))\n",
    "\n",
    "axs[0].imshow(digits.images[0], cmap='binary')\n",
    "axs[1].imshow(idx_0_reshape, cmap='binary')\n",
    "axs[0].set_title('True Image')\n",
    "axs[1].set_title('Reconstructed Image')\n",
    "\n",
    "plt.show()"
   ]
  },
  {
   "cell_type": "code",
   "execution_count": null,
   "metadata": {},
   "outputs": [],
   "source": [
    "x1=np.array([[2,1], [-3,4]])"
   ]
  },
  {
   "cell_type": "code",
   "execution_count": null,
   "metadata": {},
   "outputs": [],
   "source": [
    "x1>0"
   ]
  },
  {
   "cell_type": "code",
   "execution_count": null,
   "metadata": {},
   "outputs": [],
   "source": []
  }
 ],
 "metadata": {
  "kernelspec": {
   "display_name": "Python 3",
   "language": "python",
   "name": "python3"
  },
  "language_info": {
   "codemirror_mode": {
    "name": "ipython",
    "version": 3
   },
   "file_extension": ".py",
   "mimetype": "text/x-python",
   "name": "python",
   "nbconvert_exporter": "python",
   "pygments_lexer": "ipython3",
   "version": "3.8.3"
  }
 },
 "nbformat": 4,
 "nbformat_minor": 4
}
