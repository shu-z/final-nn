{
 "cells": [
  {
   "cell_type": "code",
   "execution_count": 38,
   "metadata": {},
   "outputs": [],
   "source": [
    "# Imports\n",
    "import numpy as np\n",
    "from typing import List, Tuple\n",
    "from numpy.typing import ArrayLike"
   ]
  },
  {
   "cell_type": "code",
   "execution_count": 68,
   "metadata": {},
   "outputs": [],
   "source": [
    "def sample_seqs(seqs: List[str], labels: List[bool]) -> Tuple[List[str], List[bool]]:\n",
    "    \"\"\"\n",
    "    This function should sample the given sequences to account for class imbalance. \n",
    "    Consider this a sampling scheme with replacement.\n",
    "    \n",
    "    Args:\n",
    "        seqs: List[str]\n",
    "            List of all sequences.\n",
    "        labels: List[bool]\n",
    "            List of positive/negative labels\n",
    "\n",
    "    Returns:\n",
    "        sampled_seqs: List[str]\n",
    "            List of sampled sequences which reflect a balanced class size\n",
    "        sampled_labels: List[bool]\n",
    "            List of labels for the sampled sequences\n",
    "    \"\"\"\n",
    "    pass\n",
    "\n",
    "def one_hot_encode_seqs(seq_arr: List[str]) -> ArrayLike:\n",
    "    \"\"\"\n",
    "    This function generates a flattened one-hot encoding of a list of DNA sequences\n",
    "    for use as input into a neural network.\n",
    "\n",
    "    Args:\n",
    "        seq_arr: List[str]\n",
    "            List of sequences to encode.\n",
    "\n",
    "    Returns:\n",
    "        encodings: ArrayLike\n",
    "            Array of encoded sequences, with each encoding 4x as long as the input sequence.\n",
    "            For example, if we encode:\n",
    "                A -> [1, 0, 0, 0]\n",
    "                T -> [0, 1, 0, 0]\n",
    "                C -> [0, 0, 1, 0]\n",
    "                G -> [0, 0, 0, 1]\n",
    "            Then, AGA -> [1, 0, 0, 0, 0, 0, 0, 1, 1, 0, 0, 0].\n",
    "    \"\"\"\n",
    "    encoded_allseq=[]\n",
    "    \n",
    "    nuc_dict={'A':[1,0,0,0], \n",
    "              'T':[0,1,0,0], \n",
    "              'C':[0,0,0,1], \n",
    "              'G':[0,0,0,1]}\n",
    "    \n",
    "    \n",
    "    for i, seq in enumerate(seq_arr):\n",
    "    \n",
    "        encode_per_nuc=([nuc_dict[n] for n in seq.upper() if n in nuc_dict])\n",
    "        encode_seq= [i for per_nuc in encode_per_nuc for i in per_nuc]\n",
    "        encoded_allseq.append(encode_seq)\n",
    "\n",
    "    return(encoded_allseq)"
   ]
  },
  {
   "cell_type": "code",
   "execution_count": 69,
   "metadata": {},
   "outputs": [
    {
     "data": {
      "text/plain": [
       "[[1, 0, 0, 0, 0, 0, 0, 1, 1, 0, 0, 0, 0, 0, 0, 1, 0, 0, 0, 1],\n",
       " [1, 0, 0, 0, 0, 0, 0, 1, 0, 0, 0, 1, 0, 0, 0, 1, 0, 1, 0, 0],\n",
       " [0, 1, 0, 0, 0, 0, 0, 1, 0, 0, 0, 1, 1, 0, 0, 0, 0, 0, 0, 1]]"
      ]
     },
     "execution_count": 69,
     "metadata": {},
     "output_type": "execute_result"
    }
   ],
   "source": [
    "one_hot_encode_seqs(['AGACG', 'ACGCT', 'tggAc'])"
   ]
  },
  {
   "cell_type": "code",
   "execution_count": 33,
   "metadata": {},
   "outputs": [],
   "source": [
    "#read in fasta negatives\n",
    "neg_seq_list=[]\n",
    "with open('./data/yeast-upstream-1k-negative.fa', \"r\") as fasta:\n",
    "    for seq in fasta:\n",
    "        seq=seq.strip()\n",
    "        if not seq.startswith(\">\"):\n",
    "            neg_seq_list.append(seq)\n",
    "            \n",
    "            \n",
    "#read in txt file positives\n",
    "pos_seq_list=[]\n",
    "with open('./data/rap1-lieb-positives.txt', \"rt\") as txt:\n",
    "    for seq in txt:\n",
    "        pos_seq_list.append(seq.strip())"
   ]
  },
  {
   "cell_type": "code",
   "execution_count": 35,
   "metadata": {},
   "outputs": [
    {
     "data": {
      "text/plain": [
       "['GAAAACGGTATTCGAAGGATTCATAGCAGCTTGATTCTTAGCAGCATCACCAATCAATCT',\n",
       " 'TTCAGTGTCAGTGAAAGCGACAAAAGATGGAGTGGTTCTGTTACCTTGATCGTTGGCAAT',\n",
       " 'AATGTCCACACGATCATTAGCAAAGTGAGCAACACACGAGTATGTTGTACCTAAATCAAT',\n",
       " 'ACCGACAGCTTTTGACATATTATCTGTTATTTACTTGAATTTTTGTTTCTTGTAATACTT']"
      ]
     },
     "execution_count": 35,
     "metadata": {},
     "output_type": "execute_result"
    }
   ],
   "source": [
    "neg_seq_list[1:5]"
   ]
  },
  {
   "cell_type": "code",
   "execution_count": 36,
   "metadata": {},
   "outputs": [
    {
     "data": {
      "text/plain": [
       "['ACACCCAGACATCGGGC',\n",
       " 'CCACCCGTACCCATGAC',\n",
       " 'GCACCCATACATTACAT',\n",
       " 'ACATCCATACACCCTCT']"
      ]
     },
     "execution_count": 36,
     "metadata": {},
     "output_type": "execute_result"
    }
   ],
   "source": [
    "pos_seq_list[1:5]"
   ]
  },
  {
   "cell_type": "code",
   "execution_count": null,
   "metadata": {},
   "outputs": [],
   "source": []
  },
  {
   "cell_type": "code",
   "execution_count": null,
   "metadata": {},
   "outputs": [],
   "source": []
  },
  {
   "cell_type": "code",
   "execution_count": null,
   "metadata": {},
   "outputs": [],
   "source": []
  },
  {
   "cell_type": "code",
   "execution_count": null,
   "metadata": {},
   "outputs": [],
   "source": []
  },
  {
   "cell_type": "code",
   "execution_count": null,
   "metadata": {},
   "outputs": [],
   "source": []
  }
 ],
 "metadata": {
  "kernelspec": {
   "display_name": "Python 3",
   "language": "python",
   "name": "python3"
  },
  "language_info": {
   "codemirror_mode": {
    "name": "ipython",
    "version": 3
   },
   "file_extension": ".py",
   "mimetype": "text/x-python",
   "name": "python",
   "nbconvert_exporter": "python",
   "pygments_lexer": "ipython3",
   "version": "3.8.3"
  }
 },
 "nbformat": 4,
 "nbformat_minor": 4
}
