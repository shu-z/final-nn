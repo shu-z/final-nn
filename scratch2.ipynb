{
 "cells": [
  {
   "cell_type": "code",
   "execution_count": 158,
   "metadata": {},
   "outputs": [],
   "source": [
    "# Imports\n",
    "import numpy as np\n",
    "from typing import List, Tuple\n",
    "from numpy.typing import ArrayLike\n",
    "from nn.io import read_text_file, read_fasta_file\n",
    "import random"
   ]
  },
  {
   "cell_type": "code",
   "execution_count": 232,
   "metadata": {},
   "outputs": [],
   "source": [
    "def sample_seqs(seqs: List[str], labels: List[bool]) -> Tuple[List[str], List[bool]]:\n",
    "    \"\"\"\n",
    "    This function should sample the given sequences to account for class imbalance. \n",
    "    Consider this a sampling scheme with replacement.\n",
    "    \n",
    "    Args:\n",
    "        seqs: List[str]\n",
    "            List of all sequences.\n",
    "        labels: List[bool]\n",
    "            List of positive/negative labels\n",
    "\n",
    "    Returns:\n",
    "        sampled_seqs: List[str]\n",
    "            List of sampled sequences which reflect a balanced class size\n",
    "        sampled_labels: List[bool]\n",
    "            List of labels for the sampled sequences\n",
    "    \"\"\"\n",
    "    \n",
    "    label_names, label_counts = np.unique(labels, return_counts=True)\n",
    "    print(label_counts)\n",
    "    print(label_names)\n",
    "    \n",
    "    label0 = [seq for seq, label in zip(seqs, labels) if label==label_names[0]]\n",
    "    label1 = [seq for seq, label in zip(seqs, labels) if label==label_names[1]]\n",
    "        \n",
    "  \n",
    "    \n",
    "    if label_counts[0]==label_counts[1]:\n",
    "        return(seqs, labels)\n",
    "    \n",
    "    \n",
    "    elif label_counts[0]>label_counts[1]:\n",
    "        \n",
    "        #sample more of label_names[1] \n",
    "        sampled_label1=random.choices(label1, k=label_counts[0])\n",
    "        #sampled_label1=random.choices(range(0, len(label1)), k=label_counts[0])\n",
    "\n",
    "        sampled_seqs=label0 + sampled_label1\n",
    "        sampled_labels=([label_names[0]] * label_counts[0]) + ([label_names[1]]* label_counts[0])\n",
    "        \n",
    "        return(sampled_seqs, sampled_labels)\n",
    "        \n",
    "        \n",
    "    \n",
    "    elif label_counts[0]<label_counts[1]:\n",
    "        #sample more of label_names[0]\n",
    "        \n",
    "        sampled_label0=random.choices(label0, k=label_counts[1])\n",
    "        #sampled_label1=random.choices(range(0, len(label1)), k=label_counts[0])\n",
    "\n",
    "        sampled_seqs=sampled_label0 + label1\n",
    "        sampled_labels=([label_names[0]] * label_counts[1]) + ([label_names[1]] * label_counts[1])\n",
    "\n",
    "        return(sampled_seqs, sampled_labels)\n",
    "        \n",
    "        \n",
    "    \n",
    "    \n",
    "    \n",
    "    \n",
    "    \n",
    "\n",
    "def one_hot_encode_seqs(seq_arr: List[str]) -> ArrayLike:\n",
    "    \"\"\"\n",
    "    This function generates a flattened one-hot encoding of a list of DNA sequences\n",
    "    for use as input into a neural network.\n",
    "\n",
    "    Args:\n",
    "        seq_arr: List[str]\n",
    "            List of sequences to encode.\n",
    "\n",
    "    Returns:\n",
    "        encodings: ArrayLike\n",
    "            Array of encoded sequences, with each encoding 4x as long as the input sequence.\n",
    "            For example, if we encode:\n",
    "                A -> [1, 0, 0, 0]\n",
    "                T -> [0, 1, 0, 0]\n",
    "                C -> [0, 0, 1, 0]\n",
    "                G -> [0, 0, 0, 1]\n",
    "            Then, AGA -> [1, 0, 0, 0, 0, 0, 0, 1, 1, 0, 0, 0].\n",
    "    \"\"\"\n",
    "    encoded_allseq=[]\n",
    "    \n",
    "    nuc_dict={'A':[1,0,0,0], \n",
    "              'T':[0,1,0,0], \n",
    "              'C':[0,0,0,1], \n",
    "              'G':[0,0,0,1]}\n",
    "    \n",
    "    \n",
    "    for i, seq in enumerate(seq_arr):\n",
    "    \n",
    "        encode_per_nuc=([nuc_dict[n] for n in seq.upper() if n in nuc_dict])\n",
    "        #encode_seq= [i for per_nuc in encode_per_nuc for i in per_nuc]\n",
    "        encoded_allseq.append(np.concatenate(encode_per_nuc))\n",
    "\n",
    "    return(np.stack(encoded_allseq))"
   ]
  },
  {
   "cell_type": "code",
   "execution_count": 230,
   "metadata": {},
   "outputs": [
    {
     "data": {
      "text/plain": [
       "array([[1, 0, 0, 0, 0, 0, 0, 1, 1, 0, 0, 0, 0, 0, 0, 1, 0, 0, 0, 1],\n",
       "       [1, 0, 0, 0, 0, 0, 0, 1, 0, 0, 0, 1, 0, 0, 0, 1, 0, 1, 0, 0],\n",
       "       [0, 1, 0, 0, 0, 0, 0, 1, 0, 0, 0, 1, 1, 0, 0, 0, 0, 0, 0, 1]])"
      ]
     },
     "execution_count": 230,
     "metadata": {},
     "output_type": "execute_result"
    }
   ],
   "source": [
    "one_hot_encode_seqs(['AGACG', 'ACGCT', 'tggAc'])"
   ]
  },
  {
   "cell_type": "code",
   "execution_count": 235,
   "metadata": {},
   "outputs": [
    {
     "name": "stdout",
     "output_type": "stream",
     "text": [
      "[3163  137]\n",
      "['negative' 'positive']\n",
      "6326\n",
      "6326\n"
     ]
    }
   ],
   "source": [
    "sampled_seqs, sampled_labels=sample_seqs(all_seq_list, labels)\n",
    "print(len(sampled_seqs))\n",
    "print(len(sampled_labels))"
   ]
  },
  {
   "cell_type": "code",
   "execution_count": 33,
   "metadata": {},
   "outputs": [],
   "source": [
    "# #read in fasta negatives\n",
    "# neg_seq_list=[]\n",
    "# with open('./data/yeast-upstream-1k-negative.fa', \"r\") as fasta:\n",
    "#     for seq in fasta:\n",
    "#         seq=seq.strip()\n",
    "#         if not seq.startswith(\">\"):\n",
    "#             neg_seq_list.append(seq)\n",
    "            \n",
    "            \n",
    "# #read in txt file positives\n",
    "# pos_seq_list=[]\n",
    "# with open('./data/rap1-lieb-positives.txt', \"rt\") as txt:\n",
    "#     for seq in txt:\n",
    "#         pos_seq_list.append(seq.strip())"
   ]
  },
  {
   "cell_type": "code",
   "execution_count": 150,
   "metadata": {},
   "outputs": [],
   "source": [
    "pos_seqs=read_text_file('./data/rap1-lieb-positives.txt')\n",
    "neg_seqs=read_fasta_file('./data/yeast-upstream-1k-negative.fa')\n",
    "\n",
    "min_seq_len=min(len(min(pos_seqs)), len(min(neg_seqs)))\n",
    "min_seq_len\n",
    "\n",
    "\n",
    "all_seqs=pos_seqs+neg_seqs\n",
    "\n"
   ]
  },
  {
   "cell_type": "code",
   "execution_count": 170,
   "metadata": {},
   "outputs": [],
   "source": [
    "trimmed_all_seqs=[]\n",
    "for seq in all_seqs:\n",
    "    if len(seq)>min_seq_len:\n",
    "        start=random.randint(0, len(seq)-min_seq_len)\n",
    "        trimmed_all_seqs.append(seq[start:start+min_seq_len])\n",
    "    else:\n",
    "        trimmed_all_seqs.append(seq)\n",
    "        \n",
    "labels=(['positive'] * len(pos_seqs)) + (['negative'] * len(neg_seqs))        \n",
    "        "
   ]
  },
  {
   "cell_type": "code",
   "execution_count": 171,
   "metadata": {},
   "outputs": [
    {
     "name": "stdout",
     "output_type": "stream",
     "text": [
      "[3163  137]\n",
      "0\n"
     ]
    }
   ],
   "source": [
    "sample_seqs(trimmed_all_seqs, labels)"
   ]
  },
  {
   "cell_type": "code",
   "execution_count": 93,
   "metadata": {},
   "outputs": [],
   "source": []
  },
  {
   "cell_type": "code",
   "execution_count": 91,
   "metadata": {},
   "outputs": [
    {
     "data": {
      "text/plain": [
       "3300"
      ]
     },
     "execution_count": 91,
     "metadata": {},
     "output_type": "execute_result"
    }
   ],
   "source": [
    "len(all_seq_list)"
   ]
  },
  {
   "cell_type": "code",
   "execution_count": 92,
   "metadata": {},
   "outputs": [
    {
     "data": {
      "text/plain": [
       "137"
      ]
     },
     "execution_count": 92,
     "metadata": {},
     "output_type": "execute_result"
    }
   ],
   "source": [
    "len(pos_seqs)"
   ]
  },
  {
   "cell_type": "code",
   "execution_count": 83,
   "metadata": {},
   "outputs": [
    {
     "data": {
      "text/plain": [
       "3163"
      ]
     },
     "execution_count": 83,
     "metadata": {},
     "output_type": "execute_result"
    }
   ],
   "source": [
    "len(neg_seqs)"
   ]
  },
  {
   "cell_type": "code",
   "execution_count": null,
   "metadata": {},
   "outputs": [],
   "source": []
  }
 ],
 "metadata": {
  "kernelspec": {
   "display_name": "Python 3",
   "language": "python",
   "name": "python3"
  },
  "language_info": {
   "codemirror_mode": {
    "name": "ipython",
    "version": 3
   },
   "file_extension": ".py",
   "mimetype": "text/x-python",
   "name": "python",
   "nbconvert_exporter": "python",
   "pygments_lexer": "ipython3",
   "version": "3.8.3"
  }
 },
 "nbformat": 4,
 "nbformat_minor": 4
}
